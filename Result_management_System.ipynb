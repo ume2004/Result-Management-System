{
  "nbformat": 4,
  "nbformat_minor": 0,
  "metadata": {
    "colab": {
      "provenance": [],
      "authorship_tag": "ABX9TyPvn8qPku9va9c+e7Vq0589",
      "include_colab_link": true
    },
    "kernelspec": {
      "name": "python3",
      "display_name": "Python 3"
    },
    "language_info": {
      "name": "python"
    }
  },
  "cells": [
    {
      "cell_type": "markdown",
      "metadata": {
        "id": "view-in-github",
        "colab_type": "text"
      },
      "source": [
        "<a href=\"https://colab.research.google.com/github/ume2004/Result-Management-System/blob/main/Result_management_System.ipynb\" target=\"_parent\"><img src=\"https://colab.research.google.com/assets/colab-badge.svg\" alt=\"Open In Colab\"/></a>"
      ]
    },
    {
      "cell_type": "code",
      "execution_count": null,
      "metadata": {
        "id": "8-jKvRzVPItz"
      },
      "outputs": [],
      "source": [
        "from faker import Faker\n",
        "import pandas as pd\n",
        "\n",
        "fake = Faker()\n",
        "students = []\n",
        "\n",
        "for i in range(10000):\n",
        "    students.append({\n",
        "        \"Student_ID\": i + 1,\n",
        "        \"Name\": fake.name(),\n",
        "        \"Age\": fake.random_int(min=18, max=25),\n",
        "        \"Department\": fake.random_element([\"CSE\", \"ECE\", \"IT\", \"ME\", \"EEE\"])\n",
        "    })\n",
        "\n",
        "df_students = pd.DataFrame(students)\n",
        "df_students.to_csv(\"students.csv\", index=False)\n",
        "\n",
        "import random\n",
        "\n",
        "subjects = [\"Electronics\", \"Programming\", \"Database\", \"Data Science\", \"Mathematics\", \"DSA\"]\n",
        "\n",
        "marks = []\n",
        "\n",
        "for i in range(10000):\n",
        "    student_marks = {\n",
        "        \"Student_ID\": i + 1,\n",
        "        \"Electronics\": random.randint(30, 100),\n",
        "        \"Programming\": random.randint(30, 100),\n",
        "        \"Database\": random.randint(30, 100),\n",
        "        \"Data Science\": random.randint(30, 100),\n",
        "        \"Mathematics\": random.randint(30, 100),\n",
        "        \"DSA\": random.randint(30, 100),\n",
        "    }\n",
        "    marks.append(student_marks)\n",
        "\n",
        "df_marks = pd.DataFrame(marks)\n",
        "df_marks.to_csv(\"marks.csv\", index=False)\n",
        "\n",
        "from pyspark.sql import SparkSession\n",
        "\n",
        "spark = SparkSession.builder.appName(\"ResultManagement\").getOrCreate()\n",
        "\n",
        "# Load data\n",
        "students_df = spark.read.csv(\"students.csv\", header=True, inferSchema=True)\n",
        "marks_df = spark.read.csv(\"marks.csv\", header=True, inferSchema=True)\n",
        "\n",
        "# Compute statistics\n",
        "marks_df.createOrReplaceTempView(\"marks\")\n",
        "avg_marks = spark.sql(\"SELECT AVG(Electronics) AS Avg_Electronics, AVG(Programming) AS Avg_Programming, \"\n",
        "                      \"AVG(Database) AS Avg_Database, AVG(Data Science) AS Avg_DataScience, \" # Use backticks to enclose column name with space\n",
        "                      \"AVG(Mathematics) AS Avg_Mathematics, AVG(DSA) AS Avg_DSA FROM marks\")\n",
        "\n",
        "avg_marks.show()\n",
        "\n",
        "df_marks[\"Total\"] = df_marks.iloc[:, 1:].sum(axis=1)\n",
        "df_marks[\"Percentage\"] = df_marks[\"Total\"] / 6\n",
        "df_marks[\"Result\"] = df_marks[\"Percentage\"].apply(lambda x: \"Pass\" if x >= 40 else \"Fail\")\n",
        "\n",
        "# Get insights\n",
        "print(df_marks.describe())  # Basic statistics\n",
        "print(df_marks[df_marks[\"Result\"] == \"Fail\"].count())  # No. of failing students\n",
        "print(df_marks.nlargest(50, \"Total\"))  # Top 10 students\n",
        "\n",
        "import matplotlib.pyplot as plt\n",
        "\n",
        "plt.figure(figsize=(10,5))\n",
        "df_marks[[\"Electronics\", \"Programming\", \"Database\", \"Data Science\", \"Mathematics\", \"DSA\"]].mean().plot(kind='bar', color='skyblue')\n",
        "plt.title(\"Average Marks per Subject\")\n",
        "plt.xlabel(\"Subjects\")\n",
        "plt.ylabel(\"Average Marks\")\n",
        "plt.show()"
      ]
    }
  ]
}